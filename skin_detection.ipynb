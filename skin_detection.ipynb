{
 "cells": [
  {
   "cell_type": "code",
   "execution_count": 2,
   "metadata": {},
   "outputs": [],
   "source": [
    "import numpy as np\n",
    "import pandas as pd\n",
    "import csv\n",
    "import matplotlib.pyplot as plt\n",
    "import os\n",
    "from PIL import Image\n",
    "%matplotlib inline"
   ]
  },
  {
   "cell_type": "code",
   "execution_count": 6,
   "metadata": {},
   "outputs": [],
   "source": [
    "def trainPics(path):\n",
    "    path = os.getcwd() + path \n",
    "    \n",
    "    trainFile= open(\"trainData.csv\",\"w+\")\n",
    "    trainFile.write(\"Red, Green, Blue, isSkin\\n\")\n",
    "    for root, dirs, files in os.walk(path + 'Mask\\\\'):\n",
    "        for filename in files:\n",
    "            #print(filename)\n",
    "            if filename.endswith(\".bmp\") : \n",
    "                im = Image.open(path + 'Mask\\\\'+ filename, 'r')\n",
    "                filename, extension = filename.split('.')\n",
    "                imOriginal = Image.open(path + filename+'.jpg', 'r') \n",
    "                pix_val_mask = list(im.getdata())\n",
    "                pix_val = list(imOriginal.getdata())\n",
    "                pixelCount = len(pix_val)\n",
    "                \n",
    "                for i in range(pixelCount) :\n",
    "                    #print(pix_val[i])\n",
    "                    trainFile.write(str(pix_val[i][0])+', '+str(pix_val[i][1])+', '+str(pix_val[i][2])+', '+ ('0' if (pix_val_mask[i][0]>=230 and pix_val_mask[i][1]>=230 and pix_val_mask[i][2]>=230) else '1') + '\\n')\n",
    "                   \n",
    "        else:\n",
    "            continue\n",
    "            \n",
    "    trainFile.close()\n",
    "        \n",
    "\n",
    "path = '\\ibtd\\\\'\n",
    "#trainPics(path)"
   ]
  },
  {
   "cell_type": "code",
   "execution_count": 12,
   "metadata": {},
   "outputs": [],
   "source": [
    "def calculateProbabilities(path):\n",
    "    \n",
    "    data = pd.read_csv(path)\n",
    "    #data.info()\n",
    "    pixelCount = np.zeros((256, 256, 256))\n",
    "    skinCount = np.zeros((256, 256, 256))\n",
    "    nonSkinCount = np.zeros((256, 256, 256))\n",
    "    \n",
    "    \n",
    "    for index, item in data.iterrows():\n",
    "        r = item['Red']\n",
    "        g = item['Green']\n",
    "        b = item['Blue']\n",
    "        isSkin = item['isSkin']\n",
    "        #print(r,g,b,isSkin)\n",
    "        \n",
    "        \n",
    "        pixelCount[r][g][b] = pixelCount[r][g][b] + 1 \n",
    "        if isSkin:\n",
    "            skinCount[r][g][b] = skinCount[r][g][b] + 1\n",
    "        else:\n",
    "            nonSkinCount[r][g][b] = nonSkinCount[r][g][b] + 1\n",
    "            \n",
    "            \n",
    "        \n",
    "    probFile = open(\"rgbProb.csv\",\"w+\")\n",
    "    probFile.write(\"Red,Green,Blue,skinProb,nonSkinProb\\n\")\n",
    "    \n",
    "    for i in range(256):\n",
    "        for j in range(256):\n",
    "            for k in range(256):\n",
    "                if pixelCount[i][j][k] == 0 :\n",
    "                    probFile.write(str(i) +','+ str(j) +','+ str(k) +','+ '0' +','+ '1' + '\\n')\n",
    "                else:\n",
    "                    skinProb = skinCount[i][j][k]/pixelCount[i][j][k]\n",
    "                    nonSkinProb = nonSkinCount[i][j][k]/pixelCount[i][j][k]\n",
    "                    probFile.write(str(i) +','+ str(j) +','+ str(k) +','+ str(skinProb) +','+ str(nonSkinProb) + '\\n')\n",
    "    \n",
    "    probFile.close()\n",
    "    \n",
    "#calculateProbabilities('trainData.csv')"
   ]
  },
  {
   "cell_type": "code",
   "execution_count": null,
   "metadata": {},
   "outputs": [],
   "source": []
  }
 ],
 "metadata": {
  "kernelspec": {
   "display_name": "Python 3",
   "language": "python",
   "name": "python3"
  },
  "language_info": {
   "codemirror_mode": {
    "name": "ipython",
    "version": 3
   },
   "file_extension": ".py",
   "mimetype": "text/x-python",
   "name": "python",
   "nbconvert_exporter": "python",
   "pygments_lexer": "ipython3",
   "version": "3.7.1"
  }
 },
 "nbformat": 4,
 "nbformat_minor": 2
}
