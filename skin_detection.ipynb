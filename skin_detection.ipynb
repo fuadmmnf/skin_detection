{
 "cells": [
  {
   "cell_type": "code",
   "execution_count": 6,
   "metadata": {},
   "outputs": [],
   "source": [
    "import numpy as np\n",
    "import pandas as pd\n",
    "import csv\n",
    "import matplotlib.pyplot as plt\n",
    "import os\n",
    "from PIL import Image\n",
    "%matplotlib inline"
   ]
  },
  {
   "cell_type": "code",
   "execution_count": 14,
   "metadata": {},
   "outputs": [],
   "source": [
    "def trainPics(path):\n",
    "    \n",
    "    for root, dirs, filename in os.walk(path):\n",
    "        print('asd')\n",
    "        if filename.endswith(\".bmp\") : \n",
    "            im = Image.open(path + filename) \n",
    "            pix_val = list(im.getdata())\n",
    "            print(pix_val)\n",
    "\n",
    "\n",
    "\n",
    "        else:\n",
    "            continue\n",
    "\n",
    "path = '/ibtd/Mask'\n",
    "trainPics(path)"
   ]
  },
  {
   "cell_type": "code",
   "execution_count": null,
   "metadata": {},
   "outputs": [],
   "source": []
  }
 ],
 "metadata": {
  "kernelspec": {
   "display_name": "Python 3",
   "language": "python",
   "name": "python3"
  },
  "language_info": {
   "codemirror_mode": {
    "name": "ipython",
    "version": 3
   },
   "file_extension": ".py",
   "mimetype": "text/x-python",
   "name": "python",
   "nbconvert_exporter": "python",
   "pygments_lexer": "ipython3",
   "version": "3.7.1"
  }
 },
 "nbformat": 4,
 "nbformat_minor": 2
}
